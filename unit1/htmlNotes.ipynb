{
 "cells": [
  {
   "cell_type": "markdown",
   "id": "6dc2153d",
   "metadata": {},
   "source": [
    "# Introduction to HTML"
   ]
  },
  {
   "cell_type": "markdown",
   "id": "294f5978",
   "metadata": {},
   "source": [
    "## HTML Defined\n",
    "\n",
    "**HTML** - Hypertext Markup Language - The language used to scribe your content\n",
    "\n",
    "**CSS** - Cascading Style Sheets - The language used to design the way yuour content looks on the web\n",
    "\n",
    "**JavaScript** - Not to be confused with Java - The language used for aading interactivity to webpages\n",
    "\n",
    "### These are the 3 main web languages"
   ]
  },
  {
   "cell_type": "markdown",
   "id": "4da98823",
   "metadata": {},
   "source": [
    "### Web Browsers\n",
    "\n",
    "* Software used for browsing, reading, and translating web documents.\n",
    "*Examples of web browsers:\n",
    "    * Google Chrome\n",
    "    * Firefox\n",
    "    * Microsoft Edge\n",
    "    * Opera GX\n",
    "    * Duck Duck Go\n",
    "    * Safari\n",
    "    * Brave\n",
    "    * Internet Explorer (MS) - Depricated\n",
    "    * Netscape - Depricated\n",
    "* Why you do not use old or UN-Updated browsers\n",
    "    * Security - security updates"
   ]
  },
  {
   "cell_type": "markdown",
   "id": "1065542f",
   "metadata": {},
   "source": []
  },
  {
   "cell_type": "markdown",
   "id": "f3e81d02",
   "metadata": {},
   "source": [
    "### HTML Skeleton/Structure\n",
    "\n",
    "#### See index.html in this folder\n",
    "\n",
    "### Structure of a HTML Tag:\n",
    "\n",
    "\n",
    "<meta charset=\"UTF-8\">\n",
    "\n",
    "    *Tag name\n",
    "    *Attribute(s)\n",
    "    *Attribute Values"
   ]
  },
  {
   "cell_type": "markdown",
   "id": "d5d44d84",
   "metadata": {},
   "source": []
  },
  {
   "cell_type": "markdown",
   "id": "c95af2d6",
   "metadata": {},
   "source": [
    "### Key Concepts of HTML\n",
    "\n",
    "* Most HTML tags have an opening and closing\n",
    "* Elements of HTML - Created by a complete pair of tags with content\n",
    "*Attributes - additional info about elements\n",
    "\n",
    "#### Essential HTML Elements\n",
    "\n",
    "* < h1 > < /h1 > through < h2 > < /h2 > headings, H1 largest by default, H6 is the smallest\n",
    "* < p > < /p > - paragraphs\n",
    "* < br > - Line Break"
   ]
  },
  {
   "cell_type": "markdown",
   "id": "41705aed",
   "metadata": {},
   "source": []
  }
 ],
 "metadata": {
  "language_info": {
   "name": "python"
  }
 },
 "nbformat": 4,
 "nbformat_minor": 5
}
